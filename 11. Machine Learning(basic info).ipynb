{
 "cells": [
  {
   "cell_type": "markdown",
   "metadata": {},
   "source": [
    "# Machine Learning 기계학습"
   ]
  },
  {
   "cell_type": "markdown",
   "metadata": {},
   "source": [
    "### 빅데이터 기본 form\n",
    "- y = ax + b\n",
    "- 어떤 정보든 수치화 하는것\n",
    "\n",
    "→ 일 때 x,y가 데이터이고 / a,b가 기계=인공지능 이 학습해서 알아서 하는 부분(parameter)\n",
    "- x는 입력 y는 출력 (x도 벡터로 들어가고 y도 벡터로 들어간다)\n",
    "- 빅데이터라고 하는데 실제 x,y에 입력하려고 data 모으는 것\n",
    "- x를 입력했을 때 y값을 출력하는 것을 predict라고 함\n",
    "\n",
    "cf) 사람은 a,b값이 이미 입력(=학습)돼 있어서 x(ex:특정 소리) 넣으면 y값 생각할 수 있는 건데\n",
    "- 기계는 a,b 값이 입력되있지 않아서 모르는 것 \n",
    "- 인공지능이 a,b 값 알도록 학습시키는 것\n",
    "- 즉 a,b값을 추정하는 것"
   ]
  },
  {
   "cell_type": "markdown",
   "metadata": {},
   "source": [
    "#### 실례 \n",
    "y = ax + b 에서 (x,y) → pair-wise한 값들 만개 정도 구했다고 함 (=data set) \n",
    "\n",
    "→ 그 data set을 좌표평면상에 찍어서 나타낼 수 있음\n",
    "\n",
    "→ 그 점들 하나하나 다 지나는 정확한 선이 하나는 있을 수 있 ex) y=ax+b\n",
    "\n",
    "\n",
    "\n",
    "information에는 입력값 여러개 들어갈 수 있o\n",
    "\n",
    "→ 하나하나 넣는 것을 일반화시키는 방법\n",
    "- x가 늘어나는 방법은 y = a1⸱x +a2⸱x +a3⸱x + b1 (이러면 x값이 3개)\n",
    "- y가 늘어나는 방법은 y1 = a1⸱x1 +a2⸱x2 +a3⸱x3 + b1 / y2 = a4⸱x1 + a5⸱x2 + a6⸱x3 + b2\n",
    "\n",
    "→ neural network로 표현하면 좀 더 간단 (패드필기 참조)"
   ]
  },
  {
   "cell_type": "markdown",
   "metadata": {},
   "source": [
    "그림으로 생각하기\n",
    "\n",
    "- 가장 기본 form : y = ax + b  "
   ]
  },
  {
   "cell_type": "code",
   "execution_count": null,
   "metadata": {},
   "outputs": [],
   "source": []
  },
  {
   "cell_type": "code",
   "execution_count": null,
   "metadata": {},
   "outputs": [],
   "source": []
  },
  {
   "cell_type": "code",
   "execution_count": null,
   "metadata": {},
   "outputs": [],
   "source": []
  }
 ],
 "metadata": {
  "kernelspec": {
   "display_name": "Python 3",
   "language": "python",
   "name": "python3"
  },
  "language_info": {
   "codemirror_mode": {
    "name": "ipython",
    "version": 3
   },
   "file_extension": ".py",
   "mimetype": "text/x-python",
   "name": "python",
   "nbconvert_exporter": "python",
   "pygments_lexer": "ipython3",
   "version": "3.7.1"
  }
 },
 "nbformat": 4,
 "nbformat_minor": 2
}
